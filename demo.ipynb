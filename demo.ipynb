{
 "cells": [
  {
   "cell_type": "code",
   "execution_count": 28,
   "metadata": {},
   "outputs": [
    {
     "name": "stdout",
     "output_type": "stream",
     "text": [
      "Requirement already satisfied: pandas in c:\\users\\shyaz\\sources\\omnivoreql\\.venv\\lib\\site-packages (2.0.3)\n",
      "Requirement already satisfied: python-dateutil>=2.8.2 in c:\\users\\shyaz\\sources\\omnivoreql\\.venv\\lib\\site-packages (from pandas) (2.8.2)\n",
      "Requirement already satisfied: numpy>=1.21.0 in c:\\users\\shyaz\\sources\\omnivoreql\\.venv\\lib\\site-packages (from pandas) (1.25.1)\n",
      "Requirement already satisfied: pytz>=2020.1 in c:\\users\\shyaz\\sources\\omnivoreql\\.venv\\lib\\site-packages (from pandas) (2023.3)\n",
      "Requirement already satisfied: tzdata>=2022.1 in c:\\users\\shyaz\\sources\\omnivoreql\\.venv\\lib\\site-packages (from pandas) (2023.3)\n",
      "Requirement already satisfied: six>=1.5 in c:\\users\\shyaz\\sources\\omnivoreql\\.venv\\lib\\site-packages (from python-dateutil>=2.8.2->pandas) (1.16.0)\n"
     ]
    },
    {
     "name": "stderr",
     "output_type": "stream",
     "text": [
      "WARNING: You are using pip version 22.0.4; however, version 23.1.2 is available.\n",
      "You should consider upgrading via the 'C:\\Users\\shyaz\\sources\\omnivoreql\\.venv\\Scripts\\python.exe -m pip install --upgrade pip' command.\n"
     ]
    },
    {
     "name": "stdout",
     "output_type": "stream",
     "text": [
      "Requirement already satisfied: omnivoreql in c:\\users\\shyaz\\sources\\omnivoreql\\.venv\\lib\\site-packages (0.2.1)\n",
      "Requirement already satisfied: gql==3.4.1 in c:\\users\\shyaz\\sources\\omnivoreql\\.venv\\lib\\site-packages (from omnivoreql) (3.4.1)\n",
      "Requirement already satisfied: requests-toolbelt==1.0.0 in c:\\users\\shyaz\\sources\\omnivoreql\\.venv\\lib\\site-packages (from omnivoreql) (1.0.0)\n",
      "Requirement already satisfied: graphql-core<3.3,>=3.2 in c:\\users\\shyaz\\sources\\omnivoreql\\.venv\\lib\\site-packages (from gql==3.4.1->omnivoreql) (3.2.3)\n",
      "Requirement already satisfied: backoff<3.0,>=1.11.1 in c:\\users\\shyaz\\sources\\omnivoreql\\.venv\\lib\\site-packages (from gql==3.4.1->omnivoreql) (2.2.1)\n",
      "Requirement already satisfied: yarl<2.0,>=1.6 in c:\\users\\shyaz\\sources\\omnivoreql\\.venv\\lib\\site-packages (from gql==3.4.1->omnivoreql) (1.9.2)\n",
      "Requirement already satisfied: requests<3.0.0,>=2.0.1 in c:\\users\\shyaz\\sources\\omnivoreql\\.venv\\lib\\site-packages (from requests-toolbelt==1.0.0->omnivoreql) (2.31.0)\n",
      "Requirement already satisfied: certifi>=2017.4.17 in c:\\users\\shyaz\\sources\\omnivoreql\\.venv\\lib\\site-packages (from requests<3.0.0,>=2.0.1->requests-toolbelt==1.0.0->omnivoreql) (2023.5.7)\n",
      "Requirement already satisfied: charset-normalizer<4,>=2 in c:\\users\\shyaz\\sources\\omnivoreql\\.venv\\lib\\site-packages (from requests<3.0.0,>=2.0.1->requests-toolbelt==1.0.0->omnivoreql) (3.2.0)\n",
      "Requirement already satisfied: urllib3<3,>=1.21.1 in c:\\users\\shyaz\\sources\\omnivoreql\\.venv\\lib\\site-packages (from requests<3.0.0,>=2.0.1->requests-toolbelt==1.0.0->omnivoreql) (2.0.3)\n",
      "Requirement already satisfied: idna<4,>=2.5 in c:\\users\\shyaz\\sources\\omnivoreql\\.venv\\lib\\site-packages (from requests<3.0.0,>=2.0.1->requests-toolbelt==1.0.0->omnivoreql) (3.4)\n",
      "Requirement already satisfied: multidict>=4.0 in c:\\users\\shyaz\\sources\\omnivoreql\\.venv\\lib\\site-packages (from yarl<2.0,>=1.6->gql==3.4.1->omnivoreql) (6.0.4)\n"
     ]
    },
    {
     "name": "stderr",
     "output_type": "stream",
     "text": [
      "WARNING: You are using pip version 22.0.4; however, version 23.1.2 is available.\n",
      "You should consider upgrading via the 'C:\\Users\\shyaz\\sources\\omnivoreql\\.venv\\Scripts\\python.exe -m pip install --upgrade pip' command.\n"
     ]
    }
   ],
   "source": [
    "!pip install pandas\n",
    "!pip install omnivoreql"
   ]
  },
  {
   "cell_type": "code",
   "execution_count": 29,
   "metadata": {},
   "outputs": [],
   "source": [
    "from omnivoreql import OmnivoreQL\n",
    "import pandas as pd"
   ]
  },
  {
   "cell_type": "code",
   "execution_count": 56,
   "metadata": {},
   "outputs": [],
   "source": [
    "OMNIVORE_API_TOKEN = 'YOUR_API_TOKEN_HERE'\n",
    "omnivoreql_client = OmnivoreQL(OMNIVORE_API_TOKEN)\n",
    "articles = omnivoreql_client.get_articles()['search']"
   ]
  },
  {
   "cell_type": "code",
   "execution_count": 57,
   "metadata": {},
   "outputs": [
    {
     "data": {
      "text/plain": [
       "10"
      ]
     },
     "execution_count": 57,
     "metadata": {},
     "output_type": "execute_result"
    }
   ],
   "source": [
    "len(articles['edges'])"
   ]
  },
  {
   "cell_type": "code",
   "execution_count": 58,
   "metadata": {},
   "outputs": [
    {
     "data": {
      "text/plain": [
       "dict_keys(['id', 'title', 'slug', 'url', 'pageType', 'contentReader', 'createdAt', 'isArchived', 'readingProgressPercent', 'readingProgressTopPercent', 'readingProgressAnchorIndex', 'author', 'image', 'description', 'publishedAt', 'ownedByViewer', 'originalArticleUrl', 'uploadFileId', 'labels', 'pageId', 'shortId', 'quote', 'annotation', 'state', 'siteName', 'subscription', 'readAt', 'savedAt', 'wordsCount', 'recommendations', 'highlights'])"
      ]
     },
     "execution_count": 58,
     "metadata": {},
     "output_type": "execute_result"
    }
   ],
   "source": [
    "articles['edges'][0]['node'].keys()"
   ]
  },
  {
   "cell_type": "code",
   "execution_count": 59,
   "metadata": {},
   "outputs": [],
   "source": [
    "df = pd.DataFrame.from_dict(articles['edges'][0], orient='columns')"
   ]
  },
  {
   "cell_type": "code",
   "execution_count": 60,
   "metadata": {},
   "outputs": [
    {
     "data": {
      "text/html": [
       "<div>\n",
       "<style scoped>\n",
       "    .dataframe tbody tr th:only-of-type {\n",
       "        vertical-align: middle;\n",
       "    }\n",
       "\n",
       "    .dataframe tbody tr th {\n",
       "        vertical-align: top;\n",
       "    }\n",
       "\n",
       "    .dataframe thead th {\n",
       "        text-align: right;\n",
       "    }\n",
       "</style>\n",
       "<table border=\"1\" class=\"dataframe\">\n",
       "  <thead>\n",
       "    <tr style=\"text-align: right;\">\n",
       "      <th></th>\n",
       "      <th>cursor</th>\n",
       "      <th>node</th>\n",
       "    </tr>\n",
       "  </thead>\n",
       "  <tbody>\n",
       "    <tr>\n",
       "      <th>annotation</th>\n",
       "      <td>10</td>\n",
       "      <td>None</td>\n",
       "    </tr>\n",
       "    <tr>\n",
       "      <th>author</th>\n",
       "      <td>10</td>\n",
       "      <td>None</td>\n",
       "    </tr>\n",
       "    <tr>\n",
       "      <th>contentReader</th>\n",
       "      <td>10</td>\n",
       "      <td>WEB</td>\n",
       "    </tr>\n",
       "    <tr>\n",
       "      <th>createdAt</th>\n",
       "      <td>10</td>\n",
       "      <td>2023-07-01T11:56:14.029Z</td>\n",
       "    </tr>\n",
       "    <tr>\n",
       "      <th>description</th>\n",
       "      <td>10</td>\n",
       "      <td>Google offered in:  Deutsch</td>\n",
       "    </tr>\n",
       "    <tr>\n",
       "      <th>highlights</th>\n",
       "      <td>10</td>\n",
       "      <td>[]</td>\n",
       "    </tr>\n",
       "    <tr>\n",
       "      <th>id</th>\n",
       "      <td>10</td>\n",
       "      <td>8cee7829-8dc0-4882-aa4a-1e1f586dae5a</td>\n",
       "    </tr>\n",
       "    <tr>\n",
       "      <th>image</th>\n",
       "      <td>10</td>\n",
       "      <td>None</td>\n",
       "    </tr>\n",
       "    <tr>\n",
       "      <th>isArchived</th>\n",
       "      <td>10</td>\n",
       "      <td>False</td>\n",
       "    </tr>\n",
       "    <tr>\n",
       "      <th>labels</th>\n",
       "      <td>10</td>\n",
       "      <td>[]</td>\n",
       "    </tr>\n",
       "    <tr>\n",
       "      <th>originalArticleUrl</th>\n",
       "      <td>10</td>\n",
       "      <td>https://www.google.com</td>\n",
       "    </tr>\n",
       "    <tr>\n",
       "      <th>ownedByViewer</th>\n",
       "      <td>10</td>\n",
       "      <td>True</td>\n",
       "    </tr>\n",
       "    <tr>\n",
       "      <th>pageId</th>\n",
       "      <td>10</td>\n",
       "      <td>None</td>\n",
       "    </tr>\n",
       "    <tr>\n",
       "      <th>pageType</th>\n",
       "      <td>10</td>\n",
       "      <td>UNKNOWN</td>\n",
       "    </tr>\n",
       "    <tr>\n",
       "      <th>publishedAt</th>\n",
       "      <td>10</td>\n",
       "      <td>None</td>\n",
       "    </tr>\n",
       "    <tr>\n",
       "      <th>quote</th>\n",
       "      <td>10</td>\n",
       "      <td>None</td>\n",
       "    </tr>\n",
       "    <tr>\n",
       "      <th>readAt</th>\n",
       "      <td>10</td>\n",
       "      <td>None</td>\n",
       "    </tr>\n",
       "    <tr>\n",
       "      <th>readingProgressAnchorIndex</th>\n",
       "      <td>10</td>\n",
       "      <td>0</td>\n",
       "    </tr>\n",
       "    <tr>\n",
       "      <th>readingProgressPercent</th>\n",
       "      <td>10</td>\n",
       "      <td>0</td>\n",
       "    </tr>\n",
       "    <tr>\n",
       "      <th>readingProgressTopPercent</th>\n",
       "      <td>10</td>\n",
       "      <td>None</td>\n",
       "    </tr>\n",
       "    <tr>\n",
       "      <th>recommendations</th>\n",
       "      <td>10</td>\n",
       "      <td>None</td>\n",
       "    </tr>\n",
       "    <tr>\n",
       "      <th>savedAt</th>\n",
       "      <td>10</td>\n",
       "      <td>2023-07-09T09:21:49.388Z</td>\n",
       "    </tr>\n",
       "    <tr>\n",
       "      <th>shortId</th>\n",
       "      <td>10</td>\n",
       "      <td>None</td>\n",
       "    </tr>\n",
       "    <tr>\n",
       "      <th>siteName</th>\n",
       "      <td>10</td>\n",
       "      <td>google.com</td>\n",
       "    </tr>\n",
       "    <tr>\n",
       "      <th>slug</th>\n",
       "      <td>10</td>\n",
       "      <td>https-www-google-com-189114f8f4d</td>\n",
       "    </tr>\n",
       "    <tr>\n",
       "      <th>state</th>\n",
       "      <td>10</td>\n",
       "      <td>SUCCEEDED</td>\n",
       "    </tr>\n",
       "    <tr>\n",
       "      <th>subscription</th>\n",
       "      <td>10</td>\n",
       "      <td>None</td>\n",
       "    </tr>\n",
       "    <tr>\n",
       "      <th>title</th>\n",
       "      <td>10</td>\n",
       "      <td>Google</td>\n",
       "    </tr>\n",
       "    <tr>\n",
       "      <th>uploadFileId</th>\n",
       "      <td>10</td>\n",
       "      <td>None</td>\n",
       "    </tr>\n",
       "    <tr>\n",
       "      <th>url</th>\n",
       "      <td>10</td>\n",
       "      <td>https://www.google.com</td>\n",
       "    </tr>\n",
       "    <tr>\n",
       "      <th>wordsCount</th>\n",
       "      <td>10</td>\n",
       "      <td>4</td>\n",
       "    </tr>\n",
       "  </tbody>\n",
       "</table>\n",
       "</div>"
      ],
      "text/plain": [
       "                           cursor                                  node\n",
       "annotation                     10                                  None\n",
       "author                         10                                  None\n",
       "contentReader                  10                                   WEB\n",
       "createdAt                      10              2023-07-01T11:56:14.029Z\n",
       "description                    10           Google offered in:  Deutsch\n",
       "highlights                     10                                    []\n",
       "id                             10  8cee7829-8dc0-4882-aa4a-1e1f586dae5a\n",
       "image                          10                                  None\n",
       "isArchived                     10                                 False\n",
       "labels                         10                                    []\n",
       "originalArticleUrl             10                https://www.google.com\n",
       "ownedByViewer                  10                                  True\n",
       "pageId                         10                                  None\n",
       "pageType                       10                               UNKNOWN\n",
       "publishedAt                    10                                  None\n",
       "quote                          10                                  None\n",
       "readAt                         10                                  None\n",
       "readingProgressAnchorIndex     10                                     0\n",
       "readingProgressPercent         10                                     0\n",
       "readingProgressTopPercent      10                                  None\n",
       "recommendations                10                                  None\n",
       "savedAt                        10              2023-07-09T09:21:49.388Z\n",
       "shortId                        10                                  None\n",
       "siteName                       10                            google.com\n",
       "slug                           10      https-www-google-com-189114f8f4d\n",
       "state                          10                             SUCCEEDED\n",
       "subscription                   10                                  None\n",
       "title                          10                                Google\n",
       "uploadFileId                   10                                  None\n",
       "url                            10                https://www.google.com\n",
       "wordsCount                     10                                     4"
      ]
     },
     "execution_count": 60,
     "metadata": {},
     "output_type": "execute_result"
    }
   ],
   "source": [
    "df"
   ]
  },
  {
   "cell_type": "code",
   "execution_count": 61,
   "metadata": {},
   "outputs": [],
   "source": [
    "article = omnivoreql_client.get_article(omnivoreql_client.get_profile()['me']['profile']['username'], articles['edges'][0]['node']['slug'],format='markdown')"
   ]
  },
  {
   "cell_type": "code",
   "execution_count": 62,
   "metadata": {},
   "outputs": [],
   "source": [
    "content = article['article']['article']['content']"
   ]
  },
  {
   "cell_type": "code",
   "execution_count": 63,
   "metadata": {},
   "outputs": [
    {
     "data": {
      "text/plain": [
       "'Google offered in: [Deutsch](https://www.google.com/setprefs?sig=0%5FkXlEJeYHiYFAqQ%5FodFCQbxs2RtI%3D&hl=de&source=homepage&sa=X&ved=0ahUKEwjpyeOnpoGAAxVny7sIHSh7AOAQ2ZgBCBY) '"
      ]
     },
     "execution_count": 63,
     "metadata": {},
     "output_type": "execute_result"
    }
   ],
   "source": [
    "content\n"
   ]
  }
 ],
 "metadata": {
  "kernelspec": {
   "display_name": "Python 3",
   "language": "python",
   "name": "python3"
  },
  "language_info": {
   "codemirror_mode": {
    "name": "ipython",
    "version": 3
   },
   "file_extension": ".py",
   "mimetype": "text/x-python",
   "name": "python",
   "nbconvert_exporter": "python",
   "pygments_lexer": "ipython3",
   "version": "3.10.4"
  },
  "orig_nbformat": 4
 },
 "nbformat": 4,
 "nbformat_minor": 2
}
