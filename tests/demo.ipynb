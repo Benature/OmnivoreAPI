{
 "cells": [
  {
   "cell_type": "code",
   "execution_count": 2,
   "metadata": {},
   "outputs": [],
   "source": [
    "!pip install pandas -qqq\n",
    "!pip install omnivoreql -qqq"
   ]
  },
  {
   "cell_type": "code",
   "execution_count": 14,
   "metadata": {},
   "outputs": [],
   "source": [
    "from omnivoreql import OmnivoreQL\n",
    "import pandas as pd\n",
    "from dotenv import load_dotenv\n",
    "import sys\n",
    "import os"
   ]
  },
  {
   "cell_type": "code",
   "execution_count": 16,
   "metadata": {},
   "outputs": [],
   "source": [
    "def getEnvVariable(variable_name):\n",
    "    for arg in sys.argv[1:]:\n",
    "        if arg.startswith(variable_name + \"=\"):\n",
    "            return arg.split(\"=\")[1]\n",
    "    load_dotenv(\".env\")\n",
    "    return os.environ.get(variable_name)"
   ]
  },
  {
   "cell_type": "code",
   "execution_count": 17,
   "metadata": {},
   "outputs": [],
   "source": [
    "api_token = getEnvVariable(\"OMNIVORE_API_TOKEN\") # Your Omnivore API token\n",
    "omnivoreql_client = OmnivoreQL(api_token)\n",
    "\n",
    "articles = omnivoreql_client.get_articles()['search']"
   ]
  },
  {
   "cell_type": "code",
   "execution_count": 18,
   "metadata": {},
   "outputs": [
    {
     "data": {
      "text/plain": [
       "10"
      ]
     },
     "execution_count": 18,
     "metadata": {},
     "output_type": "execute_result"
    }
   ],
   "source": [
    "len(articles['edges'])"
   ]
  },
  {
   "cell_type": "code",
   "execution_count": 19,
   "metadata": {},
   "outputs": [
    {
     "data": {
      "text/plain": [
       "dict_keys(['id', 'title', 'slug', 'url', 'pageType', 'contentReader', 'createdAt', 'isArchived', 'readingProgressPercent', 'readingProgressTopPercent', 'readingProgressAnchorIndex', 'author', 'image', 'description', 'publishedAt', 'ownedByViewer', 'originalArticleUrl', 'uploadFileId', 'labels', 'pageId', 'shortId', 'quote', 'annotation', 'state', 'siteName', 'subscription', 'readAt', 'savedAt', 'wordsCount', 'recommendations', 'highlights'])"
      ]
     },
     "execution_count": 19,
     "metadata": {},
     "output_type": "execute_result"
    }
   ],
   "source": [
    "articles['edges'][0]['node'].keys()"
   ]
  },
  {
   "cell_type": "code",
   "execution_count": 21,
   "metadata": {},
   "outputs": [],
   "source": [
    "df = pd.DataFrame.from_dict(articles['edges'][0], orient='columns')"
   ]
  },
  {
   "cell_type": "code",
   "execution_count": 22,
   "metadata": {},
   "outputs": [
    {
     "data": {
      "text/html": [
       "<div>\n",
       "<style scoped>\n",
       "    .dataframe tbody tr th:only-of-type {\n",
       "        vertical-align: middle;\n",
       "    }\n",
       "\n",
       "    .dataframe tbody tr th {\n",
       "        vertical-align: top;\n",
       "    }\n",
       "\n",
       "    .dataframe thead th {\n",
       "        text-align: right;\n",
       "    }\n",
       "</style>\n",
       "<table border=\"1\" class=\"dataframe\">\n",
       "  <thead>\n",
       "    <tr style=\"text-align: right;\">\n",
       "      <th></th>\n",
       "      <th>cursor</th>\n",
       "      <th>node</th>\n",
       "    </tr>\n",
       "  </thead>\n",
       "  <tbody>\n",
       "    <tr>\n",
       "      <th>annotation</th>\n",
       "      <td>10</td>\n",
       "      <td>None</td>\n",
       "    </tr>\n",
       "    <tr>\n",
       "      <th>author</th>\n",
       "      <td>10</td>\n",
       "      <td>None</td>\n",
       "    </tr>\n",
       "    <tr>\n",
       "      <th>contentReader</th>\n",
       "      <td>10</td>\n",
       "      <td>WEB</td>\n",
       "    </tr>\n",
       "    <tr>\n",
       "      <th>createdAt</th>\n",
       "      <td>10</td>\n",
       "      <td>2023-10-23T08:50:13.000Z</td>\n",
       "    </tr>\n",
       "    <tr>\n",
       "      <th>description</th>\n",
       "      <td>10</td>\n",
       "      <td>AdvertisingBusiness How Search works</td>\n",
       "    </tr>\n",
       "    <tr>\n",
       "      <th>highlights</th>\n",
       "      <td>10</td>\n",
       "      <td>[]</td>\n",
       "    </tr>\n",
       "    <tr>\n",
       "      <th>id</th>\n",
       "      <td>10</td>\n",
       "      <td>8cee7829-8dc0-4882-aa4a-1e1f586dae5a</td>\n",
       "    </tr>\n",
       "    <tr>\n",
       "      <th>image</th>\n",
       "      <td>10</td>\n",
       "      <td>None</td>\n",
       "    </tr>\n",
       "    <tr>\n",
       "      <th>isArchived</th>\n",
       "      <td>10</td>\n",
       "      <td>False</td>\n",
       "    </tr>\n",
       "    <tr>\n",
       "      <th>labels</th>\n",
       "      <td>10</td>\n",
       "      <td>[{'id': '20e90870-7180-11ee-8f97-4be5c88f4a2f'...</td>\n",
       "    </tr>\n",
       "    <tr>\n",
       "      <th>originalArticleUrl</th>\n",
       "      <td>10</td>\n",
       "      <td>https://www.google.com</td>\n",
       "    </tr>\n",
       "    <tr>\n",
       "      <th>ownedByViewer</th>\n",
       "      <td>10</td>\n",
       "      <td>None</td>\n",
       "    </tr>\n",
       "    <tr>\n",
       "      <th>pageId</th>\n",
       "      <td>10</td>\n",
       "      <td>None</td>\n",
       "    </tr>\n",
       "    <tr>\n",
       "      <th>pageType</th>\n",
       "      <td>10</td>\n",
       "      <td>UNKNOWN</td>\n",
       "    </tr>\n",
       "    <tr>\n",
       "      <th>publishedAt</th>\n",
       "      <td>10</td>\n",
       "      <td>None</td>\n",
       "    </tr>\n",
       "    <tr>\n",
       "      <th>quote</th>\n",
       "      <td>10</td>\n",
       "      <td>None</td>\n",
       "    </tr>\n",
       "    <tr>\n",
       "      <th>readAt</th>\n",
       "      <td>10</td>\n",
       "      <td>2024-01-27T05:49:16.000Z</td>\n",
       "    </tr>\n",
       "    <tr>\n",
       "      <th>readingProgressAnchorIndex</th>\n",
       "      <td>10</td>\n",
       "      <td>0</td>\n",
       "    </tr>\n",
       "    <tr>\n",
       "      <th>readingProgressPercent</th>\n",
       "      <td>10</td>\n",
       "      <td>0.1</td>\n",
       "    </tr>\n",
       "    <tr>\n",
       "      <th>readingProgressTopPercent</th>\n",
       "      <td>10</td>\n",
       "      <td>0</td>\n",
       "    </tr>\n",
       "    <tr>\n",
       "      <th>recommendations</th>\n",
       "      <td>10</td>\n",
       "      <td>[]</td>\n",
       "    </tr>\n",
       "    <tr>\n",
       "      <th>savedAt</th>\n",
       "      <td>10</td>\n",
       "      <td>2024-06-16T15:44:47.000Z</td>\n",
       "    </tr>\n",
       "    <tr>\n",
       "      <th>shortId</th>\n",
       "      <td>10</td>\n",
       "      <td>None</td>\n",
       "    </tr>\n",
       "    <tr>\n",
       "      <th>siteName</th>\n",
       "      <td>10</td>\n",
       "      <td>google.com</td>\n",
       "    </tr>\n",
       "    <tr>\n",
       "      <th>slug</th>\n",
       "      <td>10</td>\n",
       "      <td>google-18b5bba39b4</td>\n",
       "    </tr>\n",
       "    <tr>\n",
       "      <th>state</th>\n",
       "      <td>10</td>\n",
       "      <td>SUCCEEDED</td>\n",
       "    </tr>\n",
       "    <tr>\n",
       "      <th>subscription</th>\n",
       "      <td>10</td>\n",
       "      <td>None</td>\n",
       "    </tr>\n",
       "    <tr>\n",
       "      <th>title</th>\n",
       "      <td>10</td>\n",
       "      <td>Google</td>\n",
       "    </tr>\n",
       "    <tr>\n",
       "      <th>uploadFileId</th>\n",
       "      <td>10</td>\n",
       "      <td>None</td>\n",
       "    </tr>\n",
       "    <tr>\n",
       "      <th>url</th>\n",
       "      <td>10</td>\n",
       "      <td>https://www.google.com</td>\n",
       "    </tr>\n",
       "    <tr>\n",
       "      <th>wordsCount</th>\n",
       "      <td>10</td>\n",
       "      <td>12</td>\n",
       "    </tr>\n",
       "  </tbody>\n",
       "</table>\n",
       "</div>"
      ],
      "text/plain": [
       "                           cursor  \\\n",
       "annotation                     10   \n",
       "author                         10   \n",
       "contentReader                  10   \n",
       "createdAt                      10   \n",
       "description                    10   \n",
       "highlights                     10   \n",
       "id                             10   \n",
       "image                          10   \n",
       "isArchived                     10   \n",
       "labels                         10   \n",
       "originalArticleUrl             10   \n",
       "ownedByViewer                  10   \n",
       "pageId                         10   \n",
       "pageType                       10   \n",
       "publishedAt                    10   \n",
       "quote                          10   \n",
       "readAt                         10   \n",
       "readingProgressAnchorIndex     10   \n",
       "readingProgressPercent         10   \n",
       "readingProgressTopPercent      10   \n",
       "recommendations                10   \n",
       "savedAt                        10   \n",
       "shortId                        10   \n",
       "siteName                       10   \n",
       "slug                           10   \n",
       "state                          10   \n",
       "subscription                   10   \n",
       "title                          10   \n",
       "uploadFileId                   10   \n",
       "url                            10   \n",
       "wordsCount                     10   \n",
       "\n",
       "                                                                         node  \n",
       "annotation                                                               None  \n",
       "author                                                                   None  \n",
       "contentReader                                                             WEB  \n",
       "createdAt                                            2023-10-23T08:50:13.000Z  \n",
       "description                              AdvertisingBusiness How Search works  \n",
       "highlights                                                                 []  \n",
       "id                                       8cee7829-8dc0-4882-aa4a-1e1f586dae5a  \n",
       "image                                                                    None  \n",
       "isArchived                                                              False  \n",
       "labels                      [{'id': '20e90870-7180-11ee-8f97-4be5c88f4a2f'...  \n",
       "originalArticleUrl                                     https://www.google.com  \n",
       "ownedByViewer                                                            None  \n",
       "pageId                                                                   None  \n",
       "pageType                                                              UNKNOWN  \n",
       "publishedAt                                                              None  \n",
       "quote                                                                    None  \n",
       "readAt                                               2024-01-27T05:49:16.000Z  \n",
       "readingProgressAnchorIndex                                                  0  \n",
       "readingProgressPercent                                                    0.1  \n",
       "readingProgressTopPercent                                                   0  \n",
       "recommendations                                                            []  \n",
       "savedAt                                              2024-06-16T15:44:47.000Z  \n",
       "shortId                                                                  None  \n",
       "siteName                                                           google.com  \n",
       "slug                                                       google-18b5bba39b4  \n",
       "state                                                               SUCCEEDED  \n",
       "subscription                                                             None  \n",
       "title                                                                  Google  \n",
       "uploadFileId                                                             None  \n",
       "url                                                    https://www.google.com  \n",
       "wordsCount                                                                 12  "
      ]
     },
     "execution_count": 22,
     "metadata": {},
     "output_type": "execute_result"
    }
   ],
   "source": [
    "df"
   ]
  },
  {
   "cell_type": "code",
   "execution_count": 34,
   "metadata": {},
   "outputs": [],
   "source": [
    "article = omnivoreql_client.get_article(omnivoreql_client.get_profile()['me']['profile']['username'], articles['edges'][0]['node']['slug'],format='markdown')"
   ]
  },
  {
   "cell_type": "code",
   "execution_count": 35,
   "metadata": {},
   "outputs": [
    {
     "data": {
      "text/plain": [
       "'[Advertising](https://www.google.com/intl/en%5Fus/ads/?subid=ww-ww-et-g-awa-a-g%5Fhpafoot1%5F1!o2&utm%5Fsource=google.com&utm%5Fmedium=referral&utm%5Fcampaign=google%5Fhpafooter&fg=1)[Business](https://www.google.com/services/?subid=ww-ww-et-g-awa-a-g%5Fhpbfoot1%5F1!o2&utm%5Fsource=google.com&utm%5Fmedium=referral&utm%5Fcampaign=google%5Fhpbfooter&fg=1)[ How Search works ](https://google.com/search/howsearchworks/?fg=1)\\n\\n[Our third decade of climate action: join us](https://sustainability.google/?utm%5Fsource=googlehpfooter&utm%5Fmedium=housepromos&utm%5Fcampaign=bottom-footer&utm%5Fcontent=)\\n\\n[Privacy](https://policies.google.com/privacy?hl=en&fg=1)[Terms](https://policies.google.com/terms?hl=en&fg=1)\\n\\nSettings'"
      ]
     },
     "execution_count": 35,
     "metadata": {},
     "output_type": "execute_result"
    }
   ],
   "source": [
    "content = article['article']['article']['content']\n",
    "content"
   ]
  }
 ],
 "metadata": {
  "kernelspec": {
   "display_name": "Python 3",
   "language": "python",
   "name": "python3"
  },
  "language_info": {
   "codemirror_mode": {
    "name": "ipython",
    "version": 3
   },
   "file_extension": ".py",
   "mimetype": "text/x-python",
   "name": "python",
   "nbconvert_exporter": "python",
   "pygments_lexer": "ipython3",
   "version": "3.10.4"
  },
  "orig_nbformat": 4
 },
 "nbformat": 4,
 "nbformat_minor": 2
}
